{
 "cells": [
  {
   "cell_type": "code",
   "execution_count": 1,
   "metadata": {},
   "outputs": [],
   "source": [
    "# Import necessary libraries\n",
    "import pandas as pd\n",
    "import matplotlib.pyplot as plt\n",
    "import seaborn as sns\n",
    "import os as os\n",
    "from finta import TA  # Alternative to TA-Lib\n",
    "import pynance as pn  # For financial metrics\n"
   ]
  },
  {
   "cell_type": "code",
   "execution_count": 2,
   "metadata": {},
   "outputs": [],
   "source": [
    "# Ensure inline plots for Jupyter Notebook\n",
    "%matplotlib inline"
   ]
  },
  {
   "cell_type": "markdown",
   "metadata": {},
   "source": []
  },
  {
   "cell_type": "code",
   "execution_count": 3,
   "metadata": {},
   "outputs": [],
   "source": [
    "# Define folder path and stock files\n",
    "folder_path = '../data/raw/yfinance_data'\n",
    "file_names = {\n",
    "    'AAPL': 'AAPL_historical_data.csv',\n",
    "    'AMZN': 'AMZN_historical_data.csv',\n",
    "    'GOOG': 'GOOG_historical_data.csv',\n",
    "    'META': 'META_historical_data.csv',\n",
    "    'MSFT': 'MSFT_historical_data.csv',\n",
    "    'NVDA': 'NVDA_historical_data.csv',\n",
    "    'TSLA': 'TSLA_historical_data.csv'\n",
    "}\n",
    "\n"
   ]
  },
  {
   "cell_type": "code",
   "execution_count": 5,
   "metadata": {},
   "outputs": [
    {
     "name": "stdout",
     "output_type": "stream",
     "text": [
      "Processing AAPL data...\n"
     ]
    },
    {
     "ename": "NameError",
     "evalue": "name 'os' is not defined",
     "output_type": "error",
     "traceback": [
      "\u001b[1;31m---------------------------------------------------------------------------\u001b[0m",
      "\u001b[1;31mNameError\u001b[0m                                 Traceback (most recent call last)",
      "Cell \u001b[1;32mIn[5], line 103\u001b[0m\n\u001b[0;32m     99\u001b[0m     \u001b[38;5;28mprint\u001b[39m(\u001b[38;5;124m\"\u001b[39m\u001b[38;5;130;01m\\n\u001b[39;00m\u001b[38;5;124mAnalysis completed for all stocks!\u001b[39m\u001b[38;5;124m\"\u001b[39m)\n\u001b[0;32m    102\u001b[0m \u001b[38;5;66;03m# Run the main function\u001b[39;00m\n\u001b[1;32m--> 103\u001b[0m \u001b[43mmain\u001b[49m\u001b[43m(\u001b[49m\u001b[43m)\u001b[49m\n",
      "Cell \u001b[1;32mIn[5], line 82\u001b[0m, in \u001b[0;36mmain\u001b[1;34m()\u001b[0m\n\u001b[0;32m     79\u001b[0m \u001b[38;5;28mprint\u001b[39m(\u001b[38;5;124mf\u001b[39m\u001b[38;5;124m\"\u001b[39m\u001b[38;5;124mProcessing \u001b[39m\u001b[38;5;132;01m{\u001b[39;00mticker\u001b[38;5;132;01m}\u001b[39;00m\u001b[38;5;124m data...\u001b[39m\u001b[38;5;124m\"\u001b[39m)\n\u001b[0;32m     81\u001b[0m \u001b[38;5;66;03m# Load data\u001b[39;00m\n\u001b[1;32m---> 82\u001b[0m file_path \u001b[38;5;241m=\u001b[39m \u001b[43mos\u001b[49m\u001b[38;5;241m.\u001b[39mpath\u001b[38;5;241m.\u001b[39mjoin(folder_path, file)\n\u001b[0;32m     83\u001b[0m stock_data \u001b[38;5;241m=\u001b[39m load_stock_data(file_path)\n\u001b[0;32m     85\u001b[0m \u001b[38;5;66;03m# Check if data is loaded correctly\u001b[39;00m\n",
      "\u001b[1;31mNameError\u001b[0m: name 'os' is not defined"
     ]
    }
   ],
   "source": [
    "# Function to load a single stock data\n",
    "def load_stock_data(filepath):\n",
    "    \"\"\"\n",
    "    Load stock data from CSV file into a DataFrame.\n",
    "    Required Columns: Date, Open, High, Low, Close, Volume\n",
    "    \"\"\"\n",
    "    data = pd.read_csv(filepath, parse_dates=[\"Date\"])\n",
    "    data.set_index(\"Date\", inplace=True)\n",
    "    return data\n",
    "\n",
    "\n",
    "# Function to calculate technical indicators using Finta\n",
    "def calculate_indicators(df):\n",
    "    \"\"\"\n",
    "    Calculate technical indicators: SMA, EMA, RSI, and MACD.\n",
    "    \"\"\"\n",
    "    df[\"SMA_20\"] = TA.SMA(df, 20)  # Simple Moving Average - 20 days\n",
    "    df[\"SMA_50\"] = TA.SMA(df, 50)  # Simple Moving Average - 50 days\n",
    "    df[\"EMA_20\"] = TA.EMA(df, 20)  # Exponential Moving Average\n",
    "    df[\"RSI\"] = TA.RSI(df)         # Relative Strength Index\n",
    "    macd = TA.MACD(df)             # MACD and Signal Line\n",
    "    df[\"MACD\"] = macd[\"MACD\"]\n",
    "    df[\"Signal_Line\"] = macd[\"SIGNAL\"]\n",
    "    return df\n",
    "\n",
    "\n",
    "# Function to plot stock data with technical indicators\n",
    "def plot_stock_data(ticker, df):\n",
    "    \"\"\"\n",
    "    Plot the stock price and indicators.\n",
    "    \"\"\"\n",
    "    print(f\"\\nGenerating plots for {ticker}...\")\n",
    "\n",
    "    # Stock Price and Moving Averages Plot\n",
    "    plt.figure(figsize=(12, 6))\n",
    "    plt.plot(df.index, df[\"Close\"], label=\"Close Price\", color=\"blue\", linewidth=1.5)\n",
    "    plt.plot(df.index, df[\"SMA_20\"], label=\"SMA 20\", color=\"orange\", linestyle=\"--\")\n",
    "    plt.plot(df.index, df[\"SMA_50\"], label=\"SMA 50\", color=\"red\", linestyle=\"--\")\n",
    "    plt.title(f\"{ticker} Stock Price with SMA 20 & SMA 50\")\n",
    "    plt.xlabel(\"Date\")\n",
    "    plt.ylabel(\"Price (USD)\")\n",
    "    plt.legend()\n",
    "    plt.grid(True)\n",
    "    plt.tight_layout()\n",
    "    plt.show()\n",
    "\n",
    "    # RSI Plot\n",
    "    plt.figure(figsize=(12, 4))\n",
    "    plt.plot(df.index, df[\"RSI\"], label=\"RSI\", color=\"purple\")\n",
    "    plt.axhline(70, color=\"red\", linestyle=\"--\", label=\"Overbought (70)\")\n",
    "    plt.axhline(30, color=\"green\", linestyle=\"--\", label=\"Oversold (30)\")\n",
    "    plt.title(f\"{ticker} Relative Strength Index (RSI)\")\n",
    "    plt.xlabel(\"Date\")\n",
    "    plt.ylabel(\"RSI Value\")\n",
    "    plt.legend()\n",
    "    plt.grid(True)\n",
    "    plt.tight_layout()\n",
    "    plt.show()\n",
    "\n",
    "    # MACD Plot\n",
    "    plt.figure(figsize=(12, 4))\n",
    "    plt.plot(df.index, df[\"MACD\"], label=\"MACD\", color=\"blue\", linewidth=1.5)\n",
    "    plt.plot(df.index, df[\"Signal_Line\"], label=\"Signal Line\", color=\"red\", linestyle=\"--\")\n",
    "    plt.title(f\"{ticker} MACD and Signal Line\")\n",
    "    plt.xlabel(\"Date\")\n",
    "    plt.ylabel(\"MACD Value\")\n",
    "    plt.legend()\n",
    "    plt.grid(True)\n",
    "    plt.tight_layout()\n",
    "    plt.show()\n",
    "\n",
    "\n",
    "# Main function\n",
    "def main():\n",
    "    \"\"\"\n",
    "    Main function to iterate over stock files, calculate indicators, and visualize data.\n",
    "    \"\"\"\n",
    "    for ticker, file in file_names.items():\n",
    "        print(f\"Processing {ticker} data...\")\n",
    "\n",
    "        # Load data\n",
    "        file_path = os.path.join(folder_path, file)\n",
    "        stock_data = load_stock_data(file_path)\n",
    "\n",
    "        # Check if data is loaded correctly\n",
    "        if stock_data.empty:\n",
    "            print(f\"Warning: No data found for {ticker}\")\n",
    "            continue\n",
    "\n",
    "        # Calculate indicators\n",
    "        stock_data = calculate_indicators(stock_data)\n",
    "\n",
    "        # Display first 5 rows\n",
    "        display(stock_data.head())\n",
    "\n",
    "        # Plot stock data\n",
    "        plot_stock_data(ticker, stock_data)\n",
    "\n",
    "    print(\"\\nAnalysis completed for all stocks!\")\n",
    "\n",
    "\n",
    "# Run the main function\n",
    "main()"
   ]
  },
  {
   "cell_type": "markdown",
   "metadata": {},
   "source": [
    "Check the distribution of articles over time:"
   ]
  }
 ],
 "metadata": {
  "kernelspec": {
   "display_name": "ai_env",
   "language": "python",
   "name": "python3"
  },
  "language_info": {
   "codemirror_mode": {
    "name": "ipython",
    "version": 3
   },
   "file_extension": ".py",
   "mimetype": "text/x-python",
   "name": "python",
   "nbconvert_exporter": "python",
   "pygments_lexer": "ipython3",
   "version": "3.12.8"
  }
 },
 "nbformat": 4,
 "nbformat_minor": 2
}
